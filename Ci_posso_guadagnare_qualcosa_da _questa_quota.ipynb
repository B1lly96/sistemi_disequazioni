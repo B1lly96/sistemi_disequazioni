{
 "cells": [
  {
   "cell_type": "code",
   "execution_count": 7,
   "metadata": {},
   "outputs": [],
   "source": [
    "quota_1 = 1.20\n",
    "quota_2 = []\n",
    "\n",
    "puntata_1 = range( 1, 1000 )\n",
    "puntata_2 = range( 1, 1000 )\n",
    "\n",
    "base = 1.00\n",
    "\n",
    "portafoglio = 100\n",
    "\n",
    "over = 7.00\n",
    "\n",
    "for v in range( 50 ) :\n",
    "    base = base+0.2\n",
    "    quota_2.append( base )\n"
   ]
  },
  {
   "cell_type": "code",
   "execution_count": 8,
   "metadata": {},
   "outputs": [
    {
     "name": "stdout",
     "output_type": "stream",
     "text": [
      "10.399999999999995\n",
      "10.599999999999994\n",
      "10.599999999999994\n",
      "10.599999999999994\n",
      "10.799999999999994\n",
      "10.799999999999994\n",
      "10.799999999999994\n",
      "10.799999999999994\n",
      "10.799999999999994\n",
      "10.799999999999994\n",
      "10.999999999999993\n",
      "10.999999999999993\n",
      "10.999999999999993\n",
      "10.999999999999993\n",
      "10.999999999999993\n",
      "10.999999999999993\n",
      "10.999999999999993\n"
     ]
    }
   ],
   "source": [
    "\n",
    "\n",
    "\n",
    "for v in quota_2 :\n",
    "    for vl in puntata_1 :\n",
    "        for val in puntata_2 :\n",
    "            if vl+val<=portafoglio :\n",
    "                if ( quota_1*vl-vl-val>over ) & ( v*val-vl-val>over ) :\n",
    "                    print( v )\n",
    "            \n",
    "            "
   ]
  },
  {
   "cell_type": "code",
   "execution_count": null,
   "metadata": {},
   "outputs": [],
   "source": []
  }
 ],
 "metadata": {
  "kernelspec": {
   "display_name": "Python 3",
   "language": "python",
   "name": "python3"
  },
  "language_info": {
   "codemirror_mode": {
    "name": "ipython",
    "version": 3
   },
   "file_extension": ".py",
   "mimetype": "text/x-python",
   "name": "python",
   "nbconvert_exporter": "python",
   "pygments_lexer": "ipython3",
   "version": "3.8.5"
  }
 },
 "nbformat": 4,
 "nbformat_minor": 4
}
