{
 "cells": [
  {
   "cell_type": "code",
   "execution_count": 5,
   "metadata": {},
   "outputs": [
    {
     "name": "stdout",
     "output_type": "stream",
     "text": [
      "p1  p2  p3  win_1 win_2 win_3\n",
      "_ _ _ _ _ _ _ _ _ _ _ _ _ _ _ _ _ _ _ _ _\n"
     ]
    }
   ],
   "source": [
    "quota_1 = 2.00\n",
    "quota_2 = 2.80\n",
    "quota_3 = 3.75\n",
    "\n",
    "puntata_1 = range( 1,100 )\n",
    "puntata_2 = range( 1,100 )\n",
    "puntata_3 = range( 1,100 )\n",
    "\n",
    "\n",
    "v1 = []\n",
    "v2 = []\n",
    "v3 = []\n",
    "diff_eff_1 = []\n",
    "diff_eff_2 = []\n",
    "diff_eff_3 = []\n",
    "\n",
    "\n",
    "\n",
    "print( \"p1  p2  p3  win_1 win_2 win_3\")\n",
    "print(\"_ _ _ _ _ _ _ _ _ _ _ _ _ _ _ _ _ _ _ _ _\")\n",
    "for v in puntata_1 :\n",
    "    for val in puntata_2 :\n",
    "        for valore in puntata_3 :\n",
    "            diff_eff_1 = quota_1*v-v-val-valore \n",
    "            diff_eff_2 = quota_2*val-v-val-valore \n",
    "            diff_eff_3 = quota_3*valore-v-val-valore \n",
    "            if ( diff_eff_1>0 ) & ( diff_eff_2>0 ) & ( diff_eff_3>0 ) :\n",
    "                print( v, val,valore, diff_eff_1, diff_eff_2, diff_eff_3 )"
   ]
  },
  {
   "cell_type": "code",
   "execution_count": null,
   "metadata": {},
   "outputs": [],
   "source": []
  }
 ],
 "metadata": {
  "kernelspec": {
   "display_name": "Python 3",
   "language": "python",
   "name": "python3"
  },
  "language_info": {
   "codemirror_mode": {
    "name": "ipython",
    "version": 3
   },
   "file_extension": ".py",
   "mimetype": "text/x-python",
   "name": "python",
   "nbconvert_exporter": "python",
   "pygments_lexer": "ipython3",
   "version": "3.8.5"
  }
 },
 "nbformat": 4,
 "nbformat_minor": 4
}
